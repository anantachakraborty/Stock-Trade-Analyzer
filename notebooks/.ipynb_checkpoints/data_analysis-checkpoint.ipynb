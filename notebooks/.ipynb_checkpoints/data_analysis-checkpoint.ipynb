{
 "cells": [
  {
   "cell_type": "markdown",
   "metadata": {
    "id": "6lsnbp_fjNmD"
   },
   "source": [
    "Import Dependencies"
   ]
  },
  {
   "cell_type": "code",
   "execution_count": 1,
   "metadata": {
    "executionInfo": {
     "elapsed": 646,
     "status": "ok",
     "timestamp": 1698016492209,
     "user": {
      "displayName": "Ananta Chakraborty",
      "userId": "15913035944577082829"
     },
     "user_tz": -330
    },
    "id": "IStaoSHWY8Hi"
   },
   "outputs": [],
   "source": [
    "import pandas as pd\n",
    "import numpy as np\n",
    "from scipy.stats import norm"
   ]
  },
  {
   "cell_type": "markdown",
   "metadata": {
    "id": "CetxnzEehiE5"
   },
   "source": [
    "Data Loading"
   ]
  },
  {
   "cell_type": "code",
   "execution_count": 2,
   "metadata": {
    "executionInfo": {
     "elapsed": 4,
     "status": "ok",
     "timestamp": 1698016492209,
     "user": {
      "displayName": "Ananta Chakraborty",
      "userId": "15913035944577082829"
     },
     "user_tz": -330
    },
    "id": "Lf1KSF0nZwE0"
   },
   "outputs": [],
   "source": [
    "# Load the trade log data from the CSV file\n",
    "trade_data = pd.read_csv('E:/Stock Trade Analyzer/data/trade_log.csv')"
   ]
  },
  {
   "cell_type": "markdown",
   "metadata": {
    "id": "NUIZEmdIhe-J"
   },
   "source": [
    "Data Exploration"
   ]
  },
  {
   "cell_type": "code",
   "execution_count": 3,
   "metadata": {
    "colab": {
     "base_uri": "https://localhost:8080/",
     "height": 206
    },
    "executionInfo": {
     "elapsed": 26,
     "status": "ok",
     "timestamp": 1698016492895,
     "user": {
      "displayName": "Ananta Chakraborty",
      "userId": "15913035944577082829"
     },
     "user_tz": -330
    },
    "id": "PMwulh0hZ4uB",
    "outputId": "5d4cfb91-f36c-4460-d00d-46c31e255033"
   },
   "outputs": [
    {
     "data": {
      "text/html": [
       "<div>\n",
       "<style scoped>\n",
       "    .dataframe tbody tr th:only-of-type {\n",
       "        vertical-align: middle;\n",
       "    }\n",
       "\n",
       "    .dataframe tbody tr th {\n",
       "        vertical-align: top;\n",
       "    }\n",
       "\n",
       "    .dataframe thead th {\n",
       "        text-align: right;\n",
       "    }\n",
       "</style>\n",
       "<table border=\"1\" class=\"dataframe\">\n",
       "  <thead>\n",
       "    <tr style=\"text-align: right;\">\n",
       "      <th></th>\n",
       "      <th>Unnamed: 0</th>\n",
       "      <th>Ticker</th>\n",
       "      <th>Entry Time</th>\n",
       "      <th>Entry Price</th>\n",
       "      <th>Exit Time</th>\n",
       "      <th>Exit Price</th>\n",
       "    </tr>\n",
       "  </thead>\n",
       "  <tbody>\n",
       "    <tr>\n",
       "      <th>0</th>\n",
       "      <td>1</td>\n",
       "      <td>BANKNIFTY09JUL2022800PE</td>\n",
       "      <td>08-07-2020 09:29</td>\n",
       "      <td>163.50</td>\n",
       "      <td>08-07-2020 13:15</td>\n",
       "      <td>301.00</td>\n",
       "    </tr>\n",
       "    <tr>\n",
       "      <th>1</th>\n",
       "      <td>2</td>\n",
       "      <td>BANKNIFTY09JUL2022700CE</td>\n",
       "      <td>09-07-2020 09:29</td>\n",
       "      <td>162.50</td>\n",
       "      <td>09-07-2020 10:34</td>\n",
       "      <td>166.75</td>\n",
       "    </tr>\n",
       "    <tr>\n",
       "      <th>2</th>\n",
       "      <td>3</td>\n",
       "      <td>BANKNIFTY09JUL2022700PE</td>\n",
       "      <td>09-07-2020 09:29</td>\n",
       "      <td>110.55</td>\n",
       "      <td>09-07-2020 10:34</td>\n",
       "      <td>147.00</td>\n",
       "    </tr>\n",
       "    <tr>\n",
       "      <th>3</th>\n",
       "      <td>4</td>\n",
       "      <td>BANKNIFTY16JUL2022700CE</td>\n",
       "      <td>10-07-2020 09:29</td>\n",
       "      <td>295.10</td>\n",
       "      <td>10-07-2020 15:24</td>\n",
       "      <td>437.55</td>\n",
       "    </tr>\n",
       "    <tr>\n",
       "      <th>4</th>\n",
       "      <td>5</td>\n",
       "      <td>BANKNIFTY16JUL2022700PE</td>\n",
       "      <td>10-07-2020 09:29</td>\n",
       "      <td>555.20</td>\n",
       "      <td>10-07-2020 15:24</td>\n",
       "      <td>403.15</td>\n",
       "    </tr>\n",
       "  </tbody>\n",
       "</table>\n",
       "</div>"
      ],
      "text/plain": [
       "   Unnamed: 0                   Ticker        Entry Time  Entry Price  \\\n",
       "0           1  BANKNIFTY09JUL2022800PE  08-07-2020 09:29       163.50   \n",
       "1           2  BANKNIFTY09JUL2022700CE  09-07-2020 09:29       162.50   \n",
       "2           3  BANKNIFTY09JUL2022700PE  09-07-2020 09:29       110.55   \n",
       "3           4  BANKNIFTY16JUL2022700CE  10-07-2020 09:29       295.10   \n",
       "4           5  BANKNIFTY16JUL2022700PE  10-07-2020 09:29       555.20   \n",
       "\n",
       "          Exit Time  Exit Price  \n",
       "0  08-07-2020 13:15      301.00  \n",
       "1  09-07-2020 10:34      166.75  \n",
       "2  09-07-2020 10:34      147.00  \n",
       "3  10-07-2020 15:24      437.55  \n",
       "4  10-07-2020 15:24      403.15  "
      ]
     },
     "execution_count": 3,
     "metadata": {},
     "output_type": "execute_result"
    }
   ],
   "source": [
    "trade_data.head()"
   ]
  },
  {
   "cell_type": "code",
   "execution_count": 4,
   "metadata": {
    "colab": {
     "base_uri": "https://localhost:8080/",
     "height": 206
    },
    "executionInfo": {
     "elapsed": 25,
     "status": "ok",
     "timestamp": 1698016492895,
     "user": {
      "displayName": "Ananta Chakraborty",
      "userId": "15913035944577082829"
     },
     "user_tz": -330
    },
    "id": "Xh1pDL17abJw",
    "outputId": "b69ce99f-af3f-41ef-a483-f0fae61ad058"
   },
   "outputs": [
    {
     "data": {
      "text/html": [
       "<div>\n",
       "<style scoped>\n",
       "    .dataframe tbody tr th:only-of-type {\n",
       "        vertical-align: middle;\n",
       "    }\n",
       "\n",
       "    .dataframe tbody tr th {\n",
       "        vertical-align: top;\n",
       "    }\n",
       "\n",
       "    .dataframe thead th {\n",
       "        text-align: right;\n",
       "    }\n",
       "</style>\n",
       "<table border=\"1\" class=\"dataframe\">\n",
       "  <thead>\n",
       "    <tr style=\"text-align: right;\">\n",
       "      <th></th>\n",
       "      <th>Unnamed: 0</th>\n",
       "      <th>Ticker</th>\n",
       "      <th>Entry Time</th>\n",
       "      <th>Entry Price</th>\n",
       "      <th>Exit Time</th>\n",
       "      <th>Exit Price</th>\n",
       "    </tr>\n",
       "  </thead>\n",
       "  <tbody>\n",
       "    <tr>\n",
       "      <th>244</th>\n",
       "      <td>245</td>\n",
       "      <td>BANKNIFTY31DEC2031300PE</td>\n",
       "      <td>29-12-2020 09:29</td>\n",
       "      <td>216.65</td>\n",
       "      <td>29-12-2020 13:10</td>\n",
       "      <td>274.60</td>\n",
       "    </tr>\n",
       "    <tr>\n",
       "      <th>245</th>\n",
       "      <td>246</td>\n",
       "      <td>BANKNIFTY31DEC2031200CE</td>\n",
       "      <td>30-12-2020 09:29</td>\n",
       "      <td>248.25</td>\n",
       "      <td>30-12-2020 10:24</td>\n",
       "      <td>283.90</td>\n",
       "    </tr>\n",
       "    <tr>\n",
       "      <th>246</th>\n",
       "      <td>247</td>\n",
       "      <td>BANKNIFTY31DEC2031200PE</td>\n",
       "      <td>30-12-2020 09:29</td>\n",
       "      <td>221.70</td>\n",
       "      <td>30-12-2020 10:24</td>\n",
       "      <td>240.10</td>\n",
       "    </tr>\n",
       "    <tr>\n",
       "      <th>247</th>\n",
       "      <td>248</td>\n",
       "      <td>BANKNIFTY31DEC2031300CE</td>\n",
       "      <td>31-12-2020 09:29</td>\n",
       "      <td>161.80</td>\n",
       "      <td>31-12-2020 10:37</td>\n",
       "      <td>173.85</td>\n",
       "    </tr>\n",
       "    <tr>\n",
       "      <th>248</th>\n",
       "      <td>249</td>\n",
       "      <td>BANKNIFTY31DEC2031300PE</td>\n",
       "      <td>31-12-2020 09:29</td>\n",
       "      <td>105.05</td>\n",
       "      <td>31-12-2020 10:37</td>\n",
       "      <td>124.00</td>\n",
       "    </tr>\n",
       "  </tbody>\n",
       "</table>\n",
       "</div>"
      ],
      "text/plain": [
       "     Unnamed: 0                   Ticker        Entry Time  Entry Price  \\\n",
       "244         245  BANKNIFTY31DEC2031300PE  29-12-2020 09:29       216.65   \n",
       "245         246  BANKNIFTY31DEC2031200CE  30-12-2020 09:29       248.25   \n",
       "246         247  BANKNIFTY31DEC2031200PE  30-12-2020 09:29       221.70   \n",
       "247         248  BANKNIFTY31DEC2031300CE  31-12-2020 09:29       161.80   \n",
       "248         249  BANKNIFTY31DEC2031300PE  31-12-2020 09:29       105.05   \n",
       "\n",
       "            Exit Time  Exit Price  \n",
       "244  29-12-2020 13:10      274.60  \n",
       "245  30-12-2020 10:24      283.90  \n",
       "246  30-12-2020 10:24      240.10  \n",
       "247  31-12-2020 10:37      173.85  \n",
       "248  31-12-2020 10:37      124.00  "
      ]
     },
     "execution_count": 4,
     "metadata": {},
     "output_type": "execute_result"
    }
   ],
   "source": [
    "trade_data.tail()"
   ]
  },
  {
   "cell_type": "code",
   "execution_count": 5,
   "metadata": {
    "colab": {
     "base_uri": "https://localhost:8080/"
    },
    "executionInfo": {
     "elapsed": 26,
     "status": "ok",
     "timestamp": 1698016492896,
     "user": {
      "displayName": "Ananta Chakraborty",
      "userId": "15913035944577082829"
     },
     "user_tz": -330
    },
    "id": "Dck6Jph3ayWQ",
    "outputId": "29942203-d8ee-4cff-ba61-f6d316b36c8f"
   },
   "outputs": [
    {
     "name": "stdout",
     "output_type": "stream",
     "text": [
      "<class 'pandas.core.frame.DataFrame'>\n",
      "RangeIndex: 249 entries, 0 to 248\n",
      "Data columns (total 6 columns):\n",
      " #   Column       Non-Null Count  Dtype  \n",
      "---  ------       --------------  -----  \n",
      " 0   Unnamed: 0   249 non-null    int64  \n",
      " 1   Ticker       249 non-null    object \n",
      " 2   Entry Time   249 non-null    object \n",
      " 3   Entry Price  249 non-null    float64\n",
      " 4   Exit Time    249 non-null    object \n",
      " 5   Exit Price   249 non-null    float64\n",
      "dtypes: float64(2), int64(1), object(3)\n",
      "memory usage: 11.8+ KB\n"
     ]
    }
   ],
   "source": [
    "trade_data.info()"
   ]
  },
  {
   "cell_type": "code",
   "execution_count": 6,
   "metadata": {
    "colab": {
     "base_uri": "https://localhost:8080/",
     "height": 300
    },
    "executionInfo": {
     "elapsed": 24,
     "status": "ok",
     "timestamp": 1698016492896,
     "user": {
      "displayName": "Ananta Chakraborty",
      "userId": "15913035944577082829"
     },
     "user_tz": -330
    },
    "id": "REjoIduEa9V_",
    "outputId": "4fabe03a-e6cf-4486-8f3f-1927a9f3e0a4"
   },
   "outputs": [
    {
     "data": {
      "text/html": [
       "<div>\n",
       "<style scoped>\n",
       "    .dataframe tbody tr th:only-of-type {\n",
       "        vertical-align: middle;\n",
       "    }\n",
       "\n",
       "    .dataframe tbody tr th {\n",
       "        vertical-align: top;\n",
       "    }\n",
       "\n",
       "    .dataframe thead th {\n",
       "        text-align: right;\n",
       "    }\n",
       "</style>\n",
       "<table border=\"1\" class=\"dataframe\">\n",
       "  <thead>\n",
       "    <tr style=\"text-align: right;\">\n",
       "      <th></th>\n",
       "      <th>Unnamed: 0</th>\n",
       "      <th>Entry Price</th>\n",
       "      <th>Exit Price</th>\n",
       "    </tr>\n",
       "  </thead>\n",
       "  <tbody>\n",
       "    <tr>\n",
       "      <th>count</th>\n",
       "      <td>249.000000</td>\n",
       "      <td>249.000000</td>\n",
       "      <td>249.000000</td>\n",
       "    </tr>\n",
       "    <tr>\n",
       "      <th>mean</th>\n",
       "      <td>125.000000</td>\n",
       "      <td>290.172088</td>\n",
       "      <td>296.237952</td>\n",
       "    </tr>\n",
       "    <tr>\n",
       "      <th>std</th>\n",
       "      <td>72.024301</td>\n",
       "      <td>156.365324</td>\n",
       "      <td>111.674469</td>\n",
       "    </tr>\n",
       "    <tr>\n",
       "      <th>min</th>\n",
       "      <td>1.000000</td>\n",
       "      <td>43.250000</td>\n",
       "      <td>87.150000</td>\n",
       "    </tr>\n",
       "    <tr>\n",
       "      <th>25%</th>\n",
       "      <td>63.000000</td>\n",
       "      <td>172.050000</td>\n",
       "      <td>198.300000</td>\n",
       "    </tr>\n",
       "    <tr>\n",
       "      <th>50%</th>\n",
       "      <td>125.000000</td>\n",
       "      <td>262.500000</td>\n",
       "      <td>305.800000</td>\n",
       "    </tr>\n",
       "    <tr>\n",
       "      <th>75%</th>\n",
       "      <td>187.000000</td>\n",
       "      <td>356.650000</td>\n",
       "      <td>377.000000</td>\n",
       "    </tr>\n",
       "    <tr>\n",
       "      <th>max</th>\n",
       "      <td>249.000000</td>\n",
       "      <td>857.550000</td>\n",
       "      <td>582.800000</td>\n",
       "    </tr>\n",
       "  </tbody>\n",
       "</table>\n",
       "</div>"
      ],
      "text/plain": [
       "       Unnamed: 0  Entry Price  Exit Price\n",
       "count  249.000000   249.000000  249.000000\n",
       "mean   125.000000   290.172088  296.237952\n",
       "std     72.024301   156.365324  111.674469\n",
       "min      1.000000    43.250000   87.150000\n",
       "25%     63.000000   172.050000  198.300000\n",
       "50%    125.000000   262.500000  305.800000\n",
       "75%    187.000000   356.650000  377.000000\n",
       "max    249.000000   857.550000  582.800000"
      ]
     },
     "execution_count": 6,
     "metadata": {},
     "output_type": "execute_result"
    }
   ],
   "source": [
    "trade_data.describe()"
   ]
  },
  {
   "cell_type": "code",
   "execution_count": 7,
   "metadata": {
    "colab": {
     "base_uri": "https://localhost:8080/"
    },
    "executionInfo": {
     "elapsed": 23,
     "status": "ok",
     "timestamp": 1698016492896,
     "user": {
      "displayName": "Ananta Chakraborty",
      "userId": "15913035944577082829"
     },
     "user_tz": -330
    },
    "id": "IjSDN7QpbCjv",
    "outputId": "996140f0-452b-400e-8dc4-9f75f6c40d62"
   },
   "outputs": [
    {
     "data": {
      "text/plain": [
       "Unnamed: 0       int64\n",
       "Ticker          object\n",
       "Entry Time      object\n",
       "Entry Price    float64\n",
       "Exit Time       object\n",
       "Exit Price     float64\n",
       "dtype: object"
      ]
     },
     "execution_count": 7,
     "metadata": {},
     "output_type": "execute_result"
    }
   ],
   "source": [
    "trade_data.dtypes"
   ]
  },
  {
   "cell_type": "code",
   "execution_count": 8,
   "metadata": {
    "colab": {
     "base_uri": "https://localhost:8080/"
    },
    "executionInfo": {
     "elapsed": 22,
     "status": "ok",
     "timestamp": 1698016492896,
     "user": {
      "displayName": "Ananta Chakraborty",
      "userId": "15913035944577082829"
     },
     "user_tz": -330
    },
    "id": "88HoVhAybNZ3",
    "outputId": "18f3f0d3-bb5f-4f68-c847-e7b5e1282739"
   },
   "outputs": [
    {
     "data": {
      "text/plain": [
       "(249, 6)"
      ]
     },
     "execution_count": 8,
     "metadata": {},
     "output_type": "execute_result"
    }
   ],
   "source": [
    "trade_data.shape"
   ]
  },
  {
   "cell_type": "code",
   "execution_count": 9,
   "metadata": {
    "colab": {
     "base_uri": "https://localhost:8080/"
    },
    "executionInfo": {
     "elapsed": 20,
     "status": "ok",
     "timestamp": 1698016492896,
     "user": {
      "displayName": "Ananta Chakraborty",
      "userId": "15913035944577082829"
     },
     "user_tz": -330
    },
    "id": "166TMh6abR7X",
    "outputId": "b7168518-ba9a-4c99-f8e7-e13360a1c58f"
   },
   "outputs": [
    {
     "data": {
      "text/plain": [
       "0"
      ]
     },
     "execution_count": 9,
     "metadata": {},
     "output_type": "execute_result"
    }
   ],
   "source": [
    "# Checking null values\n",
    "trade_data.isnull().sum().max()"
   ]
  },
  {
   "cell_type": "markdown",
   "metadata": {
    "id": "ugjJ2hGThWE4"
   },
   "source": [
    " Parameter Calculation"
   ]
  },
  {
   "cell_type": "code",
   "execution_count": 10,
   "metadata": {
    "executionInfo": {
     "elapsed": 15,
     "status": "ok",
     "timestamp": 1698016497072,
     "user": {
      "displayName": "Ananta Chakraborty",
      "userId": "15913035944577082829"
     },
     "user_tz": -330
    },
    "id": "ab-ASAhubmO9"
   },
   "outputs": [],
   "source": [
    "# Define initial portfolio value and risk-free interest rate\n",
    "initial_portfolio_value = 6500\n",
    "risk_free_rate = 0.05"
   ]
  },
  {
   "cell_type": "code",
   "execution_count": 11,
   "metadata": {
    "executionInfo": {
     "elapsed": 15,
     "status": "ok",
     "timestamp": 1698016497072,
     "user": {
      "displayName": "Ananta Chakraborty",
      "userId": "15913035944577082829"
     },
     "user_tz": -330
    },
    "id": "jSpshKifcU4m"
   },
   "outputs": [],
   "source": [
    "# Calculate trade results and add them to the DataFrame\n",
    "trade_data['Trade_Result'] = trade_data['Exit Price'] - trade_data['Entry Price']"
   ]
  },
  {
   "cell_type": "code",
   "execution_count": 12,
   "metadata": {
    "executionInfo": {
     "elapsed": 16,
     "status": "ok",
     "timestamp": 1698016497073,
     "user": {
      "displayName": "Ananta Chakraborty",
      "userId": "15913035944577082829"
     },
     "user_tz": -330
    },
    "id": "1zR17AVCc6uJ"
   },
   "outputs": [],
   "source": [
    "# Calculate the parameters\n",
    "total_trades = len(trade_data)\n",
    "profitable_trades = len(trade_data[trade_data['Trade_Result'] > 0])\n",
    "loss_making_trades = len(trade_data[trade_data['Trade_Result'] < 0])\n",
    "win_rate = profitable_trades / total_trades\n",
    "\n",
    "profitable_trades_data = trade_data[trade_data['Trade_Result'] > 0]\n",
    "loss_making_trades_data = trade_data[trade_data['Trade_Result'] < 0]\n",
    "\n",
    "average_profit_per_trade = profitable_trades_data['Trade_Result'].mean()\n",
    "average_loss_per_trade = loss_making_trades_data['Trade_Result'].mean()\n",
    "risk_reward_ratio = abs(average_profit_per_trade) / abs(average_loss_per_trade)\n",
    "loss_rate = 1 - win_rate\n",
    "expectancy = (win_rate * average_profit_per_trade) - (loss_rate * average_loss_per_trade)"
   ]
  },
  {
   "cell_type": "code",
   "execution_count": 13,
   "metadata": {
    "executionInfo": {
     "elapsed": 16,
     "status": "ok",
     "timestamp": 1698016497073,
     "user": {
      "displayName": "Ananta Chakraborty",
      "userId": "15913035944577082829"
     },
     "user_tz": -330
    },
    "id": "6jPT7EyhdCUW"
   },
   "outputs": [],
   "source": [
    "# Calculate daily returns\n",
    "trade_data['Daily_Return'] = trade_data['Trade_Result'] / initial_portfolio_value"
   ]
  },
  {
   "cell_type": "code",
   "execution_count": 14,
   "metadata": {
    "executionInfo": {
     "elapsed": 15,
     "status": "ok",
     "timestamp": 1698016497073,
     "user": {
      "displayName": "Ananta Chakraborty",
      "userId": "15913035944577082829"
     },
     "user_tz": -330
    },
    "id": "EdudCsiydLUl"
   },
   "outputs": [],
   "source": [
    "# Calculate CAGR (Compound Annual Growth Rate)\n",
    "ending_portfolio_value = initial_portfolio_value + trade_data['Trade_Result'].sum()\n",
    "number_of_trading_days = len(trade_data)\n",
    "# Assuming 252 trading days in a year\n",
    "cagr = (ending_portfolio_value / initial_portfolio_value) ** (252 / number_of_trading_days) - 1  \n"
   ]
  },
  {
   "cell_type": "code",
   "execution_count": 15,
   "metadata": {
    "executionInfo": {
     "elapsed": 15,
     "status": "ok",
     "timestamp": 1698016497073,
     "user": {
      "displayName": "Ananta Chakraborty",
      "userId": "15913035944577082829"
     },
     "user_tz": -330
    },
    "id": "e97rC1zxdQUk"
   },
   "outputs": [],
   "source": [
    "# Calculate daily returns and standard deviation\n",
    "daily_rf_rate = (1 + risk_free_rate) ** (1 / 252) - 1\n",
    "daily_volatility = trade_data['Daily_Return'].std()"
   ]
  },
  {
   "cell_type": "code",
   "execution_count": 16,
   "metadata": {
    "executionInfo": {
     "elapsed": 15,
     "status": "ok",
     "timestamp": 1698016497073,
     "user": {
      "displayName": "Ananta Chakraborty",
      "userId": "15913035944577082829"
     },
     "user_tz": -330
    },
    "id": "KWIlgeRkdUv9"
   },
   "outputs": [],
   "source": [
    "# Calculate Sharpe Ratio\n",
    "sharpe_ratio = (cagr - daily_rf_rate) / daily_volatility"
   ]
  },
  {
   "cell_type": "code",
   "execution_count": 17,
   "metadata": {
    "executionInfo": {
     "elapsed": 15,
     "status": "ok",
     "timestamp": 1698016497073,
     "user": {
      "displayName": "Ananta Chakraborty",
      "userId": "15913035944577082829"
     },
     "user_tz": -330
    },
    "id": "Z-Lld8pjdX88"
   },
   "outputs": [],
   "source": [
    "# Calculate Max Drawdown\n",
    "cumulative_returns = trade_data['Daily_Return'].cumsum()\n",
    "cumulative_max = cumulative_returns.cummax()\n",
    "drawdown = cumulative_max - cumulative_returns\n",
    "max_drawdown = drawdown.max()\n",
    "max_drawdown_percentage = (max_drawdown / cumulative_max.max()) * 100\n"
   ]
  },
  {
   "cell_type": "code",
   "execution_count": 18,
   "metadata": {
    "executionInfo": {
     "elapsed": 15,
     "status": "ok",
     "timestamp": 1698016497073,
     "user": {
      "displayName": "Ananta Chakraborty",
      "userId": "15913035944577082829"
     },
     "user_tz": -330
    },
    "id": "Aev95s7OdcSm"
   },
   "outputs": [],
   "source": [
    "# Calculate Calmar Ratio\n",
    "calmar_ratio = cagr / max_drawdown"
   ]
  },
  {
   "cell_type": "code",
   "execution_count": 19,
   "metadata": {
    "executionInfo": {
     "elapsed": 15,
     "status": "ok",
     "timestamp": 1698016497073,
     "user": {
      "displayName": "Ananta Chakraborty",
      "userId": "15913035944577082829"
     },
     "user_tz": -330
    },
    "id": "hh9T7tzldfrE"
   },
   "outputs": [],
   "source": [
    "# Create a DataFrame for the results\n",
    "results = pd.DataFrame({\n",
    "    'Total Trades': [total_trades],\n",
    "    'Profitable Trades': [profitable_trades],\n",
    "    'Loss-Making Trades': [loss_making_trades],\n",
    "    'Win Rate': [win_rate],\n",
    "    'Average Profit per Trade': [average_profit_per_trade],\n",
    "    'Average Loss per Trade': [average_loss_per_trade],\n",
    "    'Risk Reward Ratio': [risk_reward_ratio],\n",
    "    'Expectancy': [expectancy],\n",
    "    'Average ROR per Trade': [cagr],\n",
    "    'Sharpe Ratio': [sharpe_ratio],\n",
    "    'Max Drawdown': [max_drawdown],\n",
    "    'Max Drawdown Percentage': [max_drawdown_percentage],\n",
    "    'CAGR': [cagr],\n",
    "    'Calmar Ratio': [calmar_ratio]\n",
    "})"
   ]
  },
  {
   "cell_type": "code",
   "execution_count": 20,
   "metadata": {
    "colab": {
     "base_uri": "https://localhost:8080/"
    },
    "executionInfo": {
     "elapsed": 15,
     "status": "ok",
     "timestamp": 1698016497073,
     "user": {
      "displayName": "Ananta Chakraborty",
      "userId": "15913035944577082829"
     },
     "user_tz": -330
    },
    "id": "R6tDoKa4evMV",
    "outputId": "f117dbbe-9f57-4f95-d4a6-06734208f8af"
   },
   "outputs": [
    {
     "name": "stdout",
     "output_type": "stream",
     "text": [
      "Total Trades: 0    249\n",
      "Name: Total Trades, dtype: int64\n",
      "Profitable Trades: 0    153\n",
      "Name: Profitable Trades, dtype: int64\n",
      "Loss-Making Trades: 0    96\n",
      "Name: Loss-Making Trades, dtype: int64\n",
      "Win Rate: 0    0.614458\n",
      "Name: Win Rate, dtype: float64\n",
      "Average Profit per Trade: 0    76.095425\n",
      "Name: Average Profit per Trade, dtype: float64\n",
      "Average Loss per Trade: 0   -105.54375\n",
      "Name: Average Loss per Trade, dtype: float64\n",
      "Risk Reward Ratio: 0    0.720985\n",
      "Name: Risk Reward Ratio, dtype: float64\n",
      "Expectancy: 0    87.448996\n",
      "Name: Expectancy, dtype: float64\n",
      "Average ROR per Trade: 0    0.235475\n",
      "Name: Average ROR per Trade, dtype: float64\n",
      "Sharpe Ratio: 0    13.526337\n",
      "Name: Sharpe Ratio, dtype: float64\n",
      "Max Drawdown: 0    0.084931\n",
      "Name: Max Drawdown, dtype: float64\n",
      "Max Drawdown Percentage: 0    36.549921\n",
      "Name: Max Drawdown Percentage, dtype: float64\n",
      "CAGR: 0    0.235475\n",
      "Name: CAGR, dtype: float64\n",
      "Calmar Ratio: 0    2.772557\n",
      "Name: Calmar Ratio, dtype: float64\n"
     ]
    }
   ],
   "source": [
    "# Print the calculated results\n",
    "for key, value in results.items():\n",
    "    print(f\"{key}: {value}\")"
   ]
  },
  {
   "cell_type": "markdown",
   "metadata": {
    "id": "SCS6niqnhqMg"
   },
   "source": [
    " Converting Results in CSV Format file"
   ]
  },
  {
   "cell_type": "code",
   "execution_count": 21,
   "metadata": {
    "executionInfo": {
     "elapsed": 10,
     "status": "ok",
     "timestamp": 1698016497666,
     "user": {
      "displayName": "Ananta Chakraborty",
      "userId": "15913035944577082829"
     },
     "user_tz": -330
    },
    "id": "sBlU6GfmdjQ8"
   },
   "outputs": [],
   "source": [
    "# Create a DataFrame for the results\n",
    "results = pd.DataFrame(results, index=[0])\n",
    "\n",
    "# Save the results to a CSV file\n",
    "results.to_csv('trade_results.csv', index=False)\n"
   ]
  }
 ],
 "metadata": {
  "colab": {
   "authorship_tag": "ABX9TyMlaj7sas4Frq7iLoAQOYjh",
   "provenance": []
  },
  "kernelspec": {
   "display_name": "Python 3 (ipykernel)",
   "language": "python",
   "name": "python3"
  },
  "language_info": {
   "codemirror_mode": {
    "name": "ipython",
    "version": 3
   },
   "file_extension": ".py",
   "mimetype": "text/x-python",
   "name": "python",
   "nbconvert_exporter": "python",
   "pygments_lexer": "ipython3",
   "version": "3.10.11"
  }
 },
 "nbformat": 4,
 "nbformat_minor": 1
}
